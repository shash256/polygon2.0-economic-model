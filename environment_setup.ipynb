{
 "cells": [
  {
   "cell_type": "markdown",
   "metadata": {},
   "source": [
    "# Environment Setup"
   ]
  },
  {
   "cell_type": "markdown",
   "metadata": {},
   "source": [
    "## Check Python version\n",
    "\n",
    "Should be version 3.7, 3.8, or 3.9. The model is tested against all three versions, and the masterclass uses version 3.8."
   ]
  },
  {
   "cell_type": "code",
   "execution_count": 1,
   "metadata": {},
   "outputs": [
    {
     "name": "stdout",
     "output_type": "stream",
     "text": [
      "Python 3.9.12\n"
     ]
    }
   ],
   "source": [
    "!python --version"
   ]
  },
  {
   "cell_type": "markdown",
   "metadata": {},
   "source": [
    "## Install dependencies"
   ]
  },
  {
   "cell_type": "code",
   "execution_count": 2,
   "metadata": {},
   "outputs": [
    {
     "name": "stdout",
     "output_type": "stream",
     "text": [
      "Collecting radcad==0.8.4\n",
      "  Downloading radcad-0.8.4-py3-none-any.whl (23 kB)\n",
      "Collecting pytest==6.2.2\n",
      "  Downloading pytest-6.2.2-py3-none-any.whl (280 kB)\n",
      "\u001b[K     |████████████████████████████████| 280 kB 462 kB/s eta 0:00:01\n",
      "\u001b[?25hCollecting ipykernel==5.5.3\n",
      "  Downloading ipykernel-5.5.3-py3-none-any.whl (120 kB)\n",
      "\u001b[K     |████████████████████████████████| 120 kB 9.8 MB/s eta 0:00:01\n",
      "\u001b[?25hCollecting matplotlib==3.3.4\n",
      "  Downloading matplotlib-3.3.4-cp39-cp39-macosx_10_9_x86_64.whl (8.5 MB)\n",
      "\u001b[K     |████████████████████████████████| 8.5 MB 462 kB/s eta 0:00:01\n",
      "\u001b[?25hCollecting plotly==4.14.3\n",
      "  Downloading plotly-4.14.3-py2.py3-none-any.whl (13.2 MB)\n",
      "\u001b[K     |████████████████████████████████| 13.2 MB 17.7 MB/s eta 0:00:01\n",
      "\u001b[?25hCollecting stochastic==0.6.0\n",
      "  Downloading stochastic-0.6.0-py3-none-any.whl (49 kB)\n",
      "\u001b[K     |████████████████████████████████| 49 kB 11.4 MB/s eta 0:00:01\n",
      "\u001b[?25hCollecting typing_extensions==3.7.4.3\n",
      "  Downloading typing_extensions-3.7.4.3-py3-none-any.whl (22 kB)\n",
      "Collecting black==20.8b1\n",
      "  Downloading black-20.8b1.tar.gz (1.1 MB)\n",
      "\u001b[K     |████████████████████████████████| 1.1 MB 20.6 MB/s eta 0:00:01\n",
      "\u001b[?25h  Installing build dependencies ... \u001b[?25ldone\n",
      "\u001b[?25h  Getting requirements to build wheel ... \u001b[?25ldone\n",
      "\u001b[?25h    Preparing wheel metadata ... \u001b[?25ldone\n",
      "\u001b[?25hCollecting ipython-autotime==0.3.1\n",
      "  Downloading ipython_autotime-0.3.1-py2.py3-none-any.whl (6.8 kB)\n",
      "Collecting jupyter-dash==0.4.0\n",
      "  Downloading jupyter_dash-0.4.0-py3-none-any.whl (20 kB)\n",
      "Collecting jupyter-client==6.1.2\n",
      "  Downloading jupyter_client-6.1.2-py3-none-any.whl (106 kB)\n",
      "\u001b[K     |████████████████████████████████| 106 kB 24.8 MB/s eta 0:00:01\n",
      "\u001b[?25hCollecting jupyterlab==3.0.17\n",
      "  Downloading jupyterlab-3.0.17-py3-none-any.whl (8.3 MB)\n",
      "\u001b[K     |████████████████████████████████| 8.3 MB 22.2 MB/s eta 0:00:01\n",
      "\u001b[?25hCollecting ipywidgets==7.6.3\n",
      "  Downloading ipywidgets-7.6.3-py2.py3-none-any.whl (121 kB)\n",
      "\u001b[K     |████████████████████████████████| 121 kB 34.2 MB/s eta 0:00:01\n",
      "\u001b[?25hCollecting notebook==6.4.12\n",
      "  Downloading notebook-6.4.12-py3-none-any.whl (9.9 MB)\n",
      "\u001b[K     |████████████████████████████████| 9.9 MB 49.3 MB/s eta 0:00:01\n",
      "\u001b[?25hCollecting pdoc3==0.9.2\n",
      "  Downloading pdoc3-0.9.2.tar.gz (84 kB)\n",
      "\u001b[K     |████████████████████████████████| 84 kB 7.5 MB/s  eta 0:00:01\n",
      "\u001b[?25hCollecting jupyter-book==0.11.1\n",
      "  Downloading jupyter_book-0.11.1-py3-none-any.whl (42 kB)\n",
      "\u001b[K     |████████████████████████████████| 42 kB 2.6 MB/s  eta 0:00:01\n",
      "\u001b[?25hRequirement already satisfied: psutil==5.8.0 in /Users/akhil/opt/anaconda3/lib/python3.9/site-packages (from -r requirements.txt (line 17)) (5.8.0)\n",
      "Collecting kaleido==0.2.1\n",
      "  Downloading kaleido-0.2.1-py2.py3-none-macosx_10_11_x86_64.whl (85.2 MB)\n",
      "\u001b[K     |████████████████████████████████| 85.2 MB 1.2 MB/s eta 0:00:015\n",
      "\u001b[?25hCollecting nbconvert==5.6.1\n",
      "  Downloading nbconvert-5.6.1-py2.py3-none-any.whl (455 kB)\n",
      "\u001b[K     |████████████████████████████████| 455 kB 42.9 MB/s eta 0:00:01\n",
      "\u001b[?25hCollecting flask==2.0.0\n",
      "  Downloading Flask-2.0.0-py3-none-any.whl (93 kB)\n",
      "\u001b[K     |████████████████████████████████| 93 kB 2.7 MB/s  eta 0:00:01\n",
      "\u001b[?25hCollecting gunicorn==20.1.0\n",
      "  Downloading gunicorn-20.1.0-py3-none-any.whl (79 kB)\n",
      "\u001b[K     |████████████████████████████████| 79 kB 12.9 MB/s eta 0:00:01\n",
      "\u001b[?25hCollecting cadCAD_tools==0.0.1.4\n",
      "  Downloading cadCAD_tools-0.0.1.4-py3-none-any.whl (7.3 kB)\n",
      "Collecting tqdm==4.61.0\n",
      "  Downloading tqdm-4.61.0-py2.py3-none-any.whl (75 kB)\n",
      "\u001b[K     |████████████████████████████████| 75 kB 10.9 MB/s eta 0:00:01\n",
      "\u001b[?25hCollecting diskcache==5.2.1\n",
      "  Downloading diskcache-5.2.1-py3-none-any.whl (44 kB)\n",
      "\u001b[K     |████████████████████████████████| 44 kB 6.3 MB/s  eta 0:00:01\n",
      "\u001b[?25hCollecting pylint==2.8.3\n",
      "  Downloading pylint-2.8.3-py3-none-any.whl (357 kB)\n",
      "\u001b[K     |████████████████████████████████| 357 kB 13.4 MB/s eta 0:00:01\n",
      "\u001b[?25hCollecting python-dotenv==0.19.0\n",
      "  Downloading python_dotenv-0.19.0-py2.py3-none-any.whl (17 kB)\n",
      "Collecting jupyterlab-spellchecker==0.6.0\n",
      "  Downloading jupyterlab_spellchecker-0.6.0-py3-none-any.whl (5.3 MB)\n",
      "\u001b[K     |████████████████████████████████| 5.3 MB 12.7 MB/s eta 0:00:01\n",
      "\u001b[?25hRequirement already satisfied: pandas<2.0.0,>=1.0.0 in /Users/akhil/opt/anaconda3/lib/python3.9/site-packages (from radcad==0.8.4->-r requirements.txt (line 1)) (1.4.2)\n",
      "Collecting pathos<0.3.0,>=0.2.7\n",
      "  Downloading pathos-0.2.9-py3-none-any.whl (76 kB)\n",
      "\u001b[K     |████████████████████████████████| 76 kB 11.3 MB/s eta 0:00:01\n",
      "\u001b[?25hRequirement already satisfied: iniconfig in /Users/akhil/opt/anaconda3/lib/python3.9/site-packages (from pytest==6.2.2->-r requirements.txt (line 2)) (1.1.1)\n",
      "Requirement already satisfied: py>=1.8.2 in /Users/akhil/opt/anaconda3/lib/python3.9/site-packages (from pytest==6.2.2->-r requirements.txt (line 2)) (1.11.0)\n",
      "Collecting pluggy<1.0.0a1,>=0.12\n",
      "  Downloading pluggy-0.13.1-py2.py3-none-any.whl (18 kB)\n",
      "Requirement already satisfied: attrs>=19.2.0 in /Users/akhil/opt/anaconda3/lib/python3.9/site-packages (from pytest==6.2.2->-r requirements.txt (line 2)) (21.4.0)\n",
      "Requirement already satisfied: toml in /Users/akhil/opt/anaconda3/lib/python3.9/site-packages (from pytest==6.2.2->-r requirements.txt (line 2)) (0.10.2)\n",
      "Requirement already satisfied: packaging in /Users/akhil/opt/anaconda3/lib/python3.9/site-packages (from pytest==6.2.2->-r requirements.txt (line 2)) (21.3)\n",
      "Requirement already satisfied: tornado>=4.2 in /Users/akhil/opt/anaconda3/lib/python3.9/site-packages (from ipykernel==5.5.3->-r requirements.txt (line 3)) (6.1)\n",
      "Requirement already satisfied: appnope in /Users/akhil/opt/anaconda3/lib/python3.9/site-packages (from ipykernel==5.5.3->-r requirements.txt (line 3)) (0.1.2)\n",
      "Requirement already satisfied: ipython>=5.0.0 in /Users/akhil/opt/anaconda3/lib/python3.9/site-packages (from ipykernel==5.5.3->-r requirements.txt (line 3)) (8.2.0)\n",
      "Requirement already satisfied: traitlets>=4.1.0 in /Users/akhil/opt/anaconda3/lib/python3.9/site-packages (from ipykernel==5.5.3->-r requirements.txt (line 3)) (5.1.1)\n",
      "Requirement already satisfied: python-dateutil>=2.1 in /Users/akhil/opt/anaconda3/lib/python3.9/site-packages (from matplotlib==3.3.4->-r requirements.txt (line 4)) (2.8.2)\n",
      "Requirement already satisfied: numpy>=1.15 in /Users/akhil/opt/anaconda3/lib/python3.9/site-packages (from matplotlib==3.3.4->-r requirements.txt (line 4)) (1.21.5)\n",
      "Requirement already satisfied: kiwisolver>=1.0.1 in /Users/akhil/opt/anaconda3/lib/python3.9/site-packages (from matplotlib==3.3.4->-r requirements.txt (line 4)) (1.3.2)\n",
      "Requirement already satisfied: cycler>=0.10 in /Users/akhil/opt/anaconda3/lib/python3.9/site-packages (from matplotlib==3.3.4->-r requirements.txt (line 4)) (0.11.0)\n",
      "Requirement already satisfied: pyparsing!=2.0.4,!=2.1.2,!=2.1.6,>=2.0.3 in /Users/akhil/opt/anaconda3/lib/python3.9/site-packages (from matplotlib==3.3.4->-r requirements.txt (line 4)) (3.0.4)\n",
      "Requirement already satisfied: pillow>=6.2.0 in /Users/akhil/opt/anaconda3/lib/python3.9/site-packages (from matplotlib==3.3.4->-r requirements.txt (line 4)) (9.0.1)\n",
      "Requirement already satisfied: six in /Users/akhil/opt/anaconda3/lib/python3.9/site-packages (from plotly==4.14.3->-r requirements.txt (line 5)) (1.16.0)\n",
      "Collecting retrying>=1.3.3\n",
      "  Downloading retrying-1.3.4-py3-none-any.whl (11 kB)\n",
      "Requirement already satisfied: scipy<2.0,>=1.3 in /Users/akhil/opt/anaconda3/lib/python3.9/site-packages (from stochastic==0.6.0->-r requirements.txt (line 6)) (1.7.3)\n",
      "Requirement already satisfied: mypy-extensions>=0.4.3 in /Users/akhil/opt/anaconda3/lib/python3.9/site-packages (from black==20.8b1->-r requirements.txt (line 8)) (0.4.3)\n",
      "Requirement already satisfied: typed-ast>=1.4.0 in /Users/akhil/opt/anaconda3/lib/python3.9/site-packages (from black==20.8b1->-r requirements.txt (line 8)) (1.4.3)\n",
      "Requirement already satisfied: appdirs in /Users/akhil/opt/anaconda3/lib/python3.9/site-packages (from black==20.8b1->-r requirements.txt (line 8)) (1.4.4)\n",
      "Requirement already satisfied: regex>=2020.1.8 in /Users/akhil/opt/anaconda3/lib/python3.9/site-packages (from black==20.8b1->-r requirements.txt (line 8)) (2022.3.15)\n",
      "Requirement already satisfied: click>=7.1.2 in /Users/akhil/opt/anaconda3/lib/python3.9/site-packages (from black==20.8b1->-r requirements.txt (line 8)) (8.0.4)\n",
      "Requirement already satisfied: pathspec<1,>=0.6 in /Users/akhil/opt/anaconda3/lib/python3.9/site-packages (from black==20.8b1->-r requirements.txt (line 8)) (0.7.0)\n",
      "Collecting dash\n",
      "  Downloading dash-2.14.2-py3-none-any.whl (10.2 MB)\n",
      "\u001b[K     |████████████████████████████████| 10.2 MB 17.9 MB/s eta 0:00:01\n",
      "\u001b[?25hRequirement already satisfied: requests in /Users/akhil/opt/anaconda3/lib/python3.9/site-packages (from jupyter-dash==0.4.0->-r requirements.txt (line 10)) (2.27.1)\n",
      "Collecting ansi2html\n",
      "  Downloading ansi2html-1.9.1-py3-none-any.whl (17 kB)\n",
      "Requirement already satisfied: jupyter-core>=4.6.0 in /Users/akhil/opt/anaconda3/lib/python3.9/site-packages (from jupyter-client==6.1.2->-r requirements.txt (line 11)) (4.9.2)\n",
      "Requirement already satisfied: pyzmq>=13 in /Users/akhil/opt/anaconda3/lib/python3.9/site-packages (from jupyter-client==6.1.2->-r requirements.txt (line 11)) (22.3.0)\n",
      "Requirement already satisfied: nbclassic~=0.2 in /Users/akhil/opt/anaconda3/lib/python3.9/site-packages (from jupyterlab==3.0.17->-r requirements.txt (line 12)) (0.3.5)\n",
      "Requirement already satisfied: jinja2>=2.1 in /Users/akhil/opt/anaconda3/lib/python3.9/site-packages (from jupyterlab==3.0.17->-r requirements.txt (line 12)) (2.11.3)\n",
      "Requirement already satisfied: jupyterlab-server~=2.3 in /Users/akhil/opt/anaconda3/lib/python3.9/site-packages (from jupyterlab==3.0.17->-r requirements.txt (line 12)) (2.10.3)\n",
      "Requirement already satisfied: jupyter-server~=1.4 in /Users/akhil/opt/anaconda3/lib/python3.9/site-packages (from jupyterlab==3.0.17->-r requirements.txt (line 12)) (1.13.5)\n",
      "Requirement already satisfied: widgetsnbextension~=3.5.0 in /Users/akhil/opt/anaconda3/lib/python3.9/site-packages (from ipywidgets==7.6.3->-r requirements.txt (line 13)) (3.5.2)\n",
      "Requirement already satisfied: jupyterlab-widgets>=1.0.0 in /Users/akhil/opt/anaconda3/lib/python3.9/site-packages (from ipywidgets==7.6.3->-r requirements.txt (line 13)) (1.0.0)\n",
      "Requirement already satisfied: nbformat>=4.2.0 in /Users/akhil/opt/anaconda3/lib/python3.9/site-packages (from ipywidgets==7.6.3->-r requirements.txt (line 13)) (5.3.0)\n",
      "Requirement already satisfied: Send2Trash>=1.8.0 in /Users/akhil/opt/anaconda3/lib/python3.9/site-packages (from notebook==6.4.12->-r requirements.txt (line 14)) (1.8.0)\n",
      "Requirement already satisfied: terminado>=0.8.3 in /Users/akhil/opt/anaconda3/lib/python3.9/site-packages (from notebook==6.4.12->-r requirements.txt (line 14)) (0.13.1)\n",
      "Requirement already satisfied: prometheus-client in /Users/akhil/opt/anaconda3/lib/python3.9/site-packages (from notebook==6.4.12->-r requirements.txt (line 14)) (0.13.1)\n",
      "Requirement already satisfied: nest-asyncio>=1.5 in /Users/akhil/opt/anaconda3/lib/python3.9/site-packages (from notebook==6.4.12->-r requirements.txt (line 14)) (1.5.5)\n",
      "Requirement already satisfied: argon2-cffi in /Users/akhil/opt/anaconda3/lib/python3.9/site-packages (from notebook==6.4.12->-r requirements.txt (line 14)) (21.3.0)\n",
      "Requirement already satisfied: ipython-genutils in /Users/akhil/opt/anaconda3/lib/python3.9/site-packages (from notebook==6.4.12->-r requirements.txt (line 14)) (0.2.0)\n",
      "Collecting mako\n",
      "  Downloading Mako-1.3.2-py3-none-any.whl (78 kB)\n",
      "\u001b[K     |████████████████████████████████| 78 kB 9.7 MB/s  eta 0:00:01\n",
      "\u001b[?25hRequirement already satisfied: markdown>=3.0 in /Users/akhil/opt/anaconda3/lib/python3.9/site-packages (from pdoc3==0.9.2->-r requirements.txt (line 15)) (3.3.4)\n",
      "Collecting sphinx-copybutton\n",
      "  Downloading sphinx_copybutton-0.5.2-py3-none-any.whl (13 kB)\n",
      "Collecting sphinx-togglebutton\n",
      "  Downloading sphinx_togglebutton-0.3.2-py3-none-any.whl (8.2 kB)\n",
      "Collecting linkify-it-py~=1.0.1\n",
      "  Downloading linkify_it_py-1.0.3-py3-none-any.whl (19 kB)\n",
      "Collecting sphinx-external-toc~=0.2.0\n",
      "  Downloading sphinx_external_toc-0.2.4-py3-none-any.whl (25 kB)\n",
      "Requirement already satisfied: jsonschema in /Users/akhil/opt/anaconda3/lib/python3.9/site-packages (from jupyter-book==0.11.1->-r requirements.txt (line 16)) (4.4.0)\n",
      "Collecting jupyterbook-latex~=0.3.1\n",
      "  Downloading jupyterbook_latex-0.3.1-py3-none-any.whl (10 kB)\n",
      "Collecting sphinx-thebe~=0.0.8\n",
      "  Downloading sphinx_thebe-0.0.10-py3-none-any.whl (7.7 kB)\n",
      "Collecting sphinx-book-theme~=0.1.0\n",
      "  Downloading sphinx_book_theme-0.1.10-py3-none-any.whl (94 kB)\n",
      "\u001b[K     |████████████████████████████████| 94 kB 8.6 MB/s  eta 0:00:01\n",
      "\u001b[?25hCollecting sphinxcontrib-bibtex~=2.2.0\n",
      "  Downloading sphinxcontrib_bibtex-2.2.1-py3-none-any.whl (31 kB)\n",
      "Requirement already satisfied: pyyaml in /Users/akhil/opt/anaconda3/lib/python3.9/site-packages (from jupyter-book==0.11.1->-r requirements.txt (line 16)) (6.0)\n",
      "Collecting jupytext<1.11,>=1.8\n",
      "  Downloading jupytext-1.10.3-py3-none-any.whl (290 kB)\n",
      "\u001b[K     |████████████████████████████████| 290 kB 16.6 MB/s eta 0:00:01\n",
      "\u001b[?25hCollecting myst-nb~=0.12.0\n",
      "  Downloading myst_nb-0.12.3-py3-none-any.whl (37 kB)\n",
      "Collecting sphinx-comments\n",
      "  Downloading sphinx_comments-0.0.3-py3-none-any.whl (4.6 kB)\n",
      "Collecting docutils<0.17,>=0.15\n",
      "  Downloading docutils-0.16-py2.py3-none-any.whl (548 kB)\n",
      "\u001b[K     |████████████████████████████████| 548 kB 48.2 MB/s eta 0:00:01\n",
      "\u001b[?25hCollecting sphinx<4,>=2\n",
      "  Downloading Sphinx-3.5.4-py3-none-any.whl (2.8 MB)\n",
      "\u001b[K     |████████████████████████████████| 2.8 MB 13.8 MB/s eta 0:00:01\n",
      "\u001b[?25hCollecting sphinx-panels~=0.5.2\n",
      "  Downloading sphinx_panels-0.5.2-py3-none-any.whl (87 kB)\n",
      "\u001b[K     |████████████████████████████████| 87 kB 11.3 MB/s eta 0:00:01\n",
      "\u001b[?25hRequirement already satisfied: entrypoints>=0.2.2 in /Users/akhil/opt/anaconda3/lib/python3.9/site-packages (from nbconvert==5.6.1->-r requirements.txt (line 19)) (0.4)\n",
      "Requirement already satisfied: pandocfilters>=1.4.1 in /Users/akhil/opt/anaconda3/lib/python3.9/site-packages (from nbconvert==5.6.1->-r requirements.txt (line 19)) (1.5.0)\n",
      "Requirement already satisfied: mistune<2,>=0.8.1 in /Users/akhil/opt/anaconda3/lib/python3.9/site-packages (from nbconvert==5.6.1->-r requirements.txt (line 19)) (0.8.4)\n",
      "Requirement already satisfied: testpath in /Users/akhil/opt/anaconda3/lib/python3.9/site-packages (from nbconvert==5.6.1->-r requirements.txt (line 19)) (0.5.0)\n",
      "Requirement already satisfied: bleach in /Users/akhil/opt/anaconda3/lib/python3.9/site-packages (from nbconvert==5.6.1->-r requirements.txt (line 19)) (4.1.0)\n",
      "Requirement already satisfied: pygments in /Users/akhil/opt/anaconda3/lib/python3.9/site-packages (from nbconvert==5.6.1->-r requirements.txt (line 19)) (2.11.2)\n",
      "Requirement already satisfied: defusedxml in /Users/akhil/opt/anaconda3/lib/python3.9/site-packages (from nbconvert==5.6.1->-r requirements.txt (line 19)) (0.7.1)\n",
      "Collecting jinja2>=2.1\n",
      "  Downloading Jinja2-3.1.3-py3-none-any.whl (133 kB)\n",
      "\u001b[K     |████████████████████████████████| 133 kB 25.8 MB/s eta 0:00:01\n",
      "\u001b[?25hRequirement already satisfied: itsdangerous>=2.0 in /Users/akhil/opt/anaconda3/lib/python3.9/site-packages (from flask==2.0.0->-r requirements.txt (line 20)) (2.0.1)\n",
      "Requirement already satisfied: Werkzeug>=2.0 in /Users/akhil/opt/anaconda3/lib/python3.9/site-packages (from flask==2.0.0->-r requirements.txt (line 20)) (2.0.3)\n",
      "Requirement already satisfied: setuptools>=3.0 in /Users/akhil/opt/anaconda3/lib/python3.9/site-packages (from gunicorn==20.1.0->-r requirements.txt (line 21)) (61.2.0)\n",
      "Collecting cadCAD\n",
      "  Downloading cadCAD-0.5.1-py3-none-any.whl (57 kB)\n",
      "\u001b[K     |████████████████████████████████| 57 kB 12.2 MB/s eta 0:00:01\n",
      "\u001b[?25hRequirement already satisfied: mccabe<0.7,>=0.6 in /Users/akhil/opt/anaconda3/lib/python3.9/site-packages (from pylint==2.8.3->-r requirements.txt (line 25)) (0.6.1)\n",
      "Requirement already satisfied: isort<6,>=4.2.5 in /Users/akhil/opt/anaconda3/lib/python3.9/site-packages (from pylint==2.8.3->-r requirements.txt (line 25)) (5.9.3)\n",
      "Collecting astroid==2.5.6\n",
      "  Downloading astroid-2.5.6-py3-none-any.whl (219 kB)\n",
      "\u001b[K     |████████████████████████████████| 219 kB 13.2 MB/s eta 0:00:01\n",
      "\u001b[?25hRequirement already satisfied: babel in /Users/akhil/opt/anaconda3/lib/python3.9/site-packages (from jupyterlab-spellchecker==0.6.0->-r requirements.txt (line 27)) (2.9.1)\n",
      "Requirement already satisfied: lazy-object-proxy>=1.4.0 in /Users/akhil/opt/anaconda3/lib/python3.9/site-packages (from astroid==2.5.6->pylint==2.8.3->-r requirements.txt (line 25)) (1.6.0)\n",
      "Requirement already satisfied: wrapt<1.13,>=1.11 in /Users/akhil/opt/anaconda3/lib/python3.9/site-packages (from astroid==2.5.6->pylint==2.8.3->-r requirements.txt (line 25)) (1.12.1)\n",
      "Requirement already satisfied: prompt-toolkit!=3.0.0,!=3.0.1,<3.1.0,>=2.0.0 in /Users/akhil/opt/anaconda3/lib/python3.9/site-packages (from ipython>=5.0.0->ipykernel==5.5.3->-r requirements.txt (line 3)) (3.0.20)\n",
      "Requirement already satisfied: pexpect>4.3 in /Users/akhil/opt/anaconda3/lib/python3.9/site-packages (from ipython>=5.0.0->ipykernel==5.5.3->-r requirements.txt (line 3)) (4.8.0)\n",
      "Requirement already satisfied: decorator in /Users/akhil/opt/anaconda3/lib/python3.9/site-packages (from ipython>=5.0.0->ipykernel==5.5.3->-r requirements.txt (line 3)) (5.1.1)\n",
      "Requirement already satisfied: backcall in /Users/akhil/opt/anaconda3/lib/python3.9/site-packages (from ipython>=5.0.0->ipykernel==5.5.3->-r requirements.txt (line 3)) (0.2.0)\n",
      "Requirement already satisfied: pickleshare in /Users/akhil/opt/anaconda3/lib/python3.9/site-packages (from ipython>=5.0.0->ipykernel==5.5.3->-r requirements.txt (line 3)) (0.7.5)\n",
      "Requirement already satisfied: matplotlib-inline in /Users/akhil/opt/anaconda3/lib/python3.9/site-packages (from ipython>=5.0.0->ipykernel==5.5.3->-r requirements.txt (line 3)) (0.1.2)\n",
      "Requirement already satisfied: jedi>=0.16 in /Users/akhil/opt/anaconda3/lib/python3.9/site-packages (from ipython>=5.0.0->ipykernel==5.5.3->-r requirements.txt (line 3)) (0.18.1)\n",
      "Requirement already satisfied: stack-data in /Users/akhil/opt/anaconda3/lib/python3.9/site-packages (from ipython>=5.0.0->ipykernel==5.5.3->-r requirements.txt (line 3)) (0.2.0)\n",
      "Requirement already satisfied: parso<0.9.0,>=0.8.0 in /Users/akhil/opt/anaconda3/lib/python3.9/site-packages (from jedi>=0.16->ipython>=5.0.0->ipykernel==5.5.3->-r requirements.txt (line 3)) (0.8.3)\n",
      "Requirement already satisfied: MarkupSafe>=2.0 in /Users/akhil/opt/anaconda3/lib/python3.9/site-packages (from jinja2>=2.1->jupyterlab==3.0.17->-r requirements.txt (line 12)) (2.0.1)\n",
      "Requirement already satisfied: websocket-client in /Users/akhil/opt/anaconda3/lib/python3.9/site-packages (from jupyter-server~=1.4->jupyterlab==3.0.17->-r requirements.txt (line 12)) (0.58.0)\n",
      "Requirement already satisfied: anyio<4,>=3.1.0 in /Users/akhil/opt/anaconda3/lib/python3.9/site-packages (from jupyter-server~=1.4->jupyterlab==3.0.17->-r requirements.txt (line 12)) (3.5.0)\n",
      "Requirement already satisfied: idna>=2.8 in /Users/akhil/opt/anaconda3/lib/python3.9/site-packages (from anyio<4,>=3.1.0->jupyter-server~=1.4->jupyterlab==3.0.17->-r requirements.txt (line 12)) (3.3)\n",
      "Requirement already satisfied: sniffio>=1.1 in /Users/akhil/opt/anaconda3/lib/python3.9/site-packages (from anyio<4,>=3.1.0->jupyter-server~=1.4->jupyterlab==3.0.17->-r requirements.txt (line 12)) (1.2.0)\n",
      "Requirement already satisfied: json5 in /Users/akhil/opt/anaconda3/lib/python3.9/site-packages (from jupyterlab-server~=2.3->jupyterlab==3.0.17->-r requirements.txt (line 12)) (0.9.6)\n",
      "Requirement already satisfied: pyrsistent!=0.17.0,!=0.17.1,!=0.17.2,>=0.14.0 in /Users/akhil/opt/anaconda3/lib/python3.9/site-packages (from jsonschema->jupyter-book==0.11.1->-r requirements.txt (line 16)) (0.18.0)\n",
      "Collecting markdown-it-py~=0.6.0\n",
      "  Downloading markdown_it_py-0.6.2-py3-none-any.whl (81 kB)\n",
      "\u001b[K     |████████████████████████████████| 81 kB 14.3 MB/s eta 0:00:01\n",
      "\u001b[?25hCollecting uc-micro-py\n",
      "  Downloading uc_micro_py-1.0.2-py3-none-any.whl (6.2 kB)\n",
      "Collecting mdit-py-plugins~=0.2.1\n",
      "  Downloading mdit_py_plugins-0.2.8-py3-none-any.whl (41 kB)\n",
      "\u001b[K     |████████████████████████████████| 41 kB 99 kB/s s eta 0:00:01\n",
      "\u001b[?25hCollecting attrs>=19.2.0\n",
      "  Downloading attrs-20.3.0-py2.py3-none-any.whl (49 kB)\n",
      "\u001b[K     |████████████████████████████████| 49 kB 5.1 MB/s eta 0:00:01\n",
      "\u001b[?25hCollecting mdit-py-plugins~=0.2.1\n",
      "  Downloading mdit_py_plugins-0.2.7-py3-none-any.whl (41 kB)\n",
      "\u001b[K     |████████████████████████████████| 41 kB 99 kB/s s eta 0:00:01\n",
      "\u001b[?25h  Downloading mdit_py_plugins-0.2.6-py3-none-any.whl (39 kB)\n",
      "Collecting myst-parser~=0.13.5\n",
      "  Downloading myst_parser-0.13.7-py3-none-any.whl (44 kB)\n",
      "\u001b[K     |████████████████████████████████| 44 kB 5.6 MB/s  eta 0:00:01\n",
      "\u001b[?25hCollecting jupyter-sphinx~=0.3.2\n",
      "  Downloading jupyter_sphinx-0.3.2-py3-none-any.whl (20 kB)\n",
      "Collecting jupyter-cache~=0.4.1\n",
      "  Downloading jupyter_cache-0.4.3-py3-none-any.whl (31 kB)\n",
      "Collecting sphinx-togglebutton\n",
      "  Downloading sphinx_togglebutton-0.2.3-py3-none-any.whl (6.1 kB)\n",
      "Requirement already satisfied: importlib-metadata in /Users/akhil/opt/anaconda3/lib/python3.9/site-packages (from myst-nb~=0.12.0->jupyter-book==0.11.1->-r requirements.txt (line 16)) (4.11.3)\n",
      "Requirement already satisfied: nbclient<0.6,>=0.2 in /Users/akhil/opt/anaconda3/lib/python3.9/site-packages (from jupyter-cache~=0.4.1->myst-nb~=0.12.0->jupyter-book==0.11.1->-r requirements.txt (line 16)) (0.5.13)\n",
      "Requirement already satisfied: sqlalchemy<1.5,>=1.3.12 in /Users/akhil/opt/anaconda3/lib/python3.9/site-packages (from jupyter-cache~=0.4.1->myst-nb~=0.12.0->jupyter-book==0.11.1->-r requirements.txt (line 16)) (1.4.32)\n",
      "Collecting nbdime\n",
      "  Downloading nbdime-4.0.1-py3-none-any.whl (5.9 MB)\n",
      "\u001b[K     |████████████████████████████████| 5.9 MB 8.6 MB/s eta 0:00:01\n",
      "\u001b[?25hCollecting nbclient<0.6,>=0.2\n",
      "  Downloading nbclient-0.5.12-py3-none-any.whl (71 kB)\n",
      "\u001b[K     |████████████████████████████████| 71 kB 12.4 MB/s eta 0:00:01\n",
      "\u001b[?25h  Downloading nbclient-0.5.11-py3-none-any.whl (71 kB)\n",
      "\u001b[K     |████████████████████████████████| 71 kB 4.9 MB/s eta 0:00:011\n",
      "\u001b[?25h  Downloading nbclient-0.5.10-py3-none-any.whl (69 kB)\n",
      "\u001b[K     |████████████████████████████████| 69 kB 4.6 MB/s eta 0:00:01\n",
      "\u001b[?25h  Downloading nbclient-0.5.9-py3-none-any.whl (69 kB)\n",
      "\u001b[K     |████████████████████████████████| 69 kB 736 kB/s eta 0:00:01\n",
      "\u001b[?25h  Downloading nbclient-0.5.5-py3-none-any.whl (69 kB)\n",
      "\u001b[K     |████████████████████████████████| 69 kB 740 kB/s eta 0:00:01\n",
      "\u001b[?25h  Downloading nbclient-0.5.4-py3-none-any.whl (66 kB)\n",
      "\u001b[K     |████████████████████████████████| 66 kB 10.8 MB/s eta 0:00:01\n",
      "\u001b[?25h  Downloading nbclient-0.5.3-py3-none-any.whl (82 kB)\n",
      "\u001b[K     |████████████████████████████████| 82 kB 1.6 MB/s eta 0:00:01\n",
      "\u001b[?25hCollecting async-generator\n",
      "  Downloading async_generator-1.10-py3-none-any.whl (18 kB)\n",
      "Collecting nbclient<0.6,>=0.2\n",
      "  Downloading nbclient-0.5.2-py3-none-any.whl (65 kB)\n",
      "\u001b[K     |████████████████████████████████| 65 kB 10.0 MB/s eta 0:00:01\n",
      "\u001b[?25h  Downloading nbclient-0.5.1-py3-none-any.whl (65 kB)\n",
      "\u001b[K     |████████████████████████████████| 65 kB 3.3 MB/s eta 0:00:01\n",
      "\u001b[?25h  Downloading nbclient-0.5.0-py3-none-any.whl (65 kB)\n",
      "\u001b[K     |████████████████████████████████| 65 kB 6.9 MB/s  eta 0:00:01\n",
      "\u001b[?25h  Downloading nbclient-0.4.1-py3-none-any.whl (65 kB)\n",
      "\u001b[K     |████████████████████████████████| 65 kB 9.8 MB/s  eta 0:00:01\n",
      "\u001b[?25h  Downloading nbclient-0.4.0-py3-none-any.whl (63 kB)\n",
      "\u001b[K     |████████████████████████████████| 63 kB 3.4 MB/s eta 0:00:01\n",
      "\u001b[?25hRequirement already satisfied: fastjsonschema in /Users/akhil/opt/anaconda3/lib/python3.9/site-packages (from nbformat>=4.2.0->ipywidgets==7.6.3->-r requirements.txt (line 13)) (2.15.1)\n",
      "Requirement already satisfied: pytz>=2020.1 in /Users/akhil/opt/anaconda3/lib/python3.9/site-packages (from pandas<2.0.0,>=1.0.0->radcad==0.8.4->-r requirements.txt (line 1)) (2021.3)\n",
      "Collecting dill>=0.3.5.1\n",
      "  Downloading dill-0.3.8-py3-none-any.whl (116 kB)\n",
      "\u001b[K     |████████████████████████████████| 116 kB 4.6 MB/s eta 0:00:01\n",
      "\u001b[?25hCollecting ppft>=1.7.6.5\n",
      "  Downloading ppft-1.7.6.8-py3-none-any.whl (56 kB)\n",
      "\u001b[K     |████████████████████████████████| 56 kB 8.4 MB/s  eta 0:00:01\n",
      "\u001b[?25hCollecting multiprocess>=0.70.13\n",
      "  Downloading multiprocess-0.70.16-py39-none-any.whl (133 kB)\n",
      "\u001b[K     |████████████████████████████████| 133 kB 5.0 MB/s eta 0:00:01\n",
      "\u001b[?25hCollecting pox>=0.3.1\n",
      "  Downloading pox-0.3.4-py3-none-any.whl (29 kB)\n",
      "Requirement already satisfied: ptyprocess>=0.5 in /Users/akhil/opt/anaconda3/lib/python3.9/site-packages (from pexpect>4.3->ipython>=5.0.0->ipykernel==5.5.3->-r requirements.txt (line 3)) (0.7.0)\n",
      "Requirement already satisfied: wcwidth in /Users/akhil/opt/anaconda3/lib/python3.9/site-packages (from prompt-toolkit!=3.0.0,!=3.0.1,<3.1.0,>=2.0.0->ipython>=5.0.0->ipykernel==5.5.3->-r requirements.txt (line 3)) (0.2.5)\n",
      "Requirement already satisfied: sphinxcontrib-qthelp in /Users/akhil/opt/anaconda3/lib/python3.9/site-packages (from sphinx<4,>=2->jupyter-book==0.11.1->-r requirements.txt (line 16)) (1.0.3)\n",
      "Requirement already satisfied: imagesize in /Users/akhil/opt/anaconda3/lib/python3.9/site-packages (from sphinx<4,>=2->jupyter-book==0.11.1->-r requirements.txt (line 16)) (1.3.0)\n",
      "Requirement already satisfied: sphinxcontrib-jsmath in /Users/akhil/opt/anaconda3/lib/python3.9/site-packages (from sphinx<4,>=2->jupyter-book==0.11.1->-r requirements.txt (line 16)) (1.0.1)\n",
      "Requirement already satisfied: sphinxcontrib-applehelp in /Users/akhil/opt/anaconda3/lib/python3.9/site-packages (from sphinx<4,>=2->jupyter-book==0.11.1->-r requirements.txt (line 16)) (1.0.2)\n",
      "Requirement already satisfied: snowballstemmer>=1.1 in /Users/akhil/opt/anaconda3/lib/python3.9/site-packages (from sphinx<4,>=2->jupyter-book==0.11.1->-r requirements.txt (line 16)) (2.2.0)\n",
      "Requirement already satisfied: sphinxcontrib-htmlhelp in /Users/akhil/opt/anaconda3/lib/python3.9/site-packages (from sphinx<4,>=2->jupyter-book==0.11.1->-r requirements.txt (line 16)) (2.0.0)\n",
      "Requirement already satisfied: alabaster<0.8,>=0.7 in /Users/akhil/opt/anaconda3/lib/python3.9/site-packages (from sphinx<4,>=2->jupyter-book==0.11.1->-r requirements.txt (line 16)) (0.7.12)\n",
      "Requirement already satisfied: sphinxcontrib-serializinghtml in /Users/akhil/opt/anaconda3/lib/python3.9/site-packages (from sphinx<4,>=2->jupyter-book==0.11.1->-r requirements.txt (line 16)) (1.1.5)\n",
      "Requirement already satisfied: sphinxcontrib-devhelp in /Users/akhil/opt/anaconda3/lib/python3.9/site-packages (from sphinx<4,>=2->jupyter-book==0.11.1->-r requirements.txt (line 16)) (1.0.2)\n",
      "Requirement already satisfied: charset-normalizer~=2.0.0 in /Users/akhil/opt/anaconda3/lib/python3.9/site-packages (from requests->jupyter-dash==0.4.0->-r requirements.txt (line 10)) (2.0.4)\n",
      "Requirement already satisfied: urllib3<1.27,>=1.21.1 in /Users/akhil/opt/anaconda3/lib/python3.9/site-packages (from requests->jupyter-dash==0.4.0->-r requirements.txt (line 10)) (1.26.9)\n",
      "Requirement already satisfied: certifi>=2017.4.17 in /Users/akhil/opt/anaconda3/lib/python3.9/site-packages (from requests->jupyter-dash==0.4.0->-r requirements.txt (line 10)) (2021.10.8)\n",
      "Requirement already satisfied: beautifulsoup4<5,>=4.6.1 in /Users/akhil/opt/anaconda3/lib/python3.9/site-packages (from sphinx-book-theme~=0.1.0->jupyter-book==0.11.1->-r requirements.txt (line 16)) (4.11.1)\n",
      "Collecting pydata-sphinx-theme~=0.7.2\n",
      "  Downloading pydata_sphinx_theme-0.7.2-py3-none-any.whl (1.4 MB)\n",
      "\u001b[K     |████████████████████████████████| 1.4 MB 4.7 MB/s eta 0:00:01\n",
      "\u001b[?25hRequirement already satisfied: soupsieve>1.2 in /Users/akhil/opt/anaconda3/lib/python3.9/site-packages (from beautifulsoup4<5,>=4.6.1->sphinx-book-theme~=0.1.0->jupyter-book==0.11.1->-r requirements.txt (line 16)) (2.3.1)\n",
      "Requirement already satisfied: wheel in /Users/akhil/opt/anaconda3/lib/python3.9/site-packages (from sphinx-togglebutton->jupyter-book==0.11.1->-r requirements.txt (line 16)) (0.37.1)\n",
      "Collecting pybtex-docutils>=1.0.0\n",
      "  Downloading pybtex_docutils-1.0.3-py3-none-any.whl (6.4 kB)\n",
      "Collecting pybtex>=0.20\n",
      "  Downloading pybtex-0.24.0-py2.py3-none-any.whl (561 kB)\n",
      "\u001b[K     |████████████████████████████████| 561 kB 5.7 MB/s eta 0:00:01\n",
      "\u001b[?25hCollecting latexcodec>=1.0.4\n",
      "  Downloading latexcodec-2.0.1-py2.py3-none-any.whl (18 kB)\n",
      "Requirement already satisfied: greenlet!=0.4.17 in /Users/akhil/opt/anaconda3/lib/python3.9/site-packages (from sqlalchemy<1.5,>=1.3.12->jupyter-cache~=0.4.1->myst-nb~=0.12.0->jupyter-book==0.11.1->-r requirements.txt (line 16)) (1.1.1)\n",
      "Requirement already satisfied: argon2-cffi-bindings in /Users/akhil/opt/anaconda3/lib/python3.9/site-packages (from argon2-cffi->notebook==6.4.12->-r requirements.txt (line 14)) (21.2.0)\n",
      "Requirement already satisfied: cffi>=1.0.1 in /Users/akhil/opt/anaconda3/lib/python3.9/site-packages (from argon2-cffi-bindings->argon2-cffi->notebook==6.4.12->-r requirements.txt (line 14)) (1.15.0)\n",
      "Requirement already satisfied: pycparser in /Users/akhil/opt/anaconda3/lib/python3.9/site-packages (from cffi>=1.0.1->argon2-cffi-bindings->argon2-cffi->notebook==6.4.12->-r requirements.txt (line 14)) (2.21)\n",
      "Requirement already satisfied: webencodings in /Users/akhil/opt/anaconda3/lib/python3.9/site-packages (from bleach->nbconvert==5.6.1->-r requirements.txt (line 19)) (0.5.1)\n",
      "Collecting funcy\n",
      "  Downloading funcy-2.0-py2.py3-none-any.whl (30 kB)\n",
      "Collecting dash-html-components==2.0.0\n",
      "  Downloading dash_html_components-2.0.0-py3-none-any.whl (4.1 kB)\n",
      "Collecting dash\n",
      "  Downloading dash-2.14.1-py3-none-any.whl (10.4 MB)\n",
      "\u001b[K     |████████████████████████████████| 10.4 MB 5.9 MB/s eta 0:00:01\n",
      "\u001b[?25h  Downloading dash-2.14.0-py3-none-any.whl (10.4 MB)\n",
      "\u001b[K     |████████████████████████████████| 10.4 MB 5.1 MB/s eta 0:00:01\n",
      "\u001b[?25h  Downloading dash-2.13.0-py3-none-any.whl (10.4 MB)\n",
      "\u001b[K     |████████████████████████████████| 10.4 MB 952 kB/s eta 0:00:01\n",
      "\u001b[?25h  Downloading dash-2.12.1-py3-none-any.whl (10.4 MB)\n",
      "\u001b[K     |████████████████████████████████| 10.4 MB 965 kB/s eta 0:00:01\n",
      "\u001b[?25h  Downloading dash-2.12.0-py3-none-any.whl (10.4 MB)\n",
      "\u001b[K     |████████████████████████████████| 10.4 MB 9.4 MB/s eta 0:00:01\n",
      "\u001b[?25h  Downloading dash-2.11.1-py3-none-any.whl (10.4 MB)\n",
      "\u001b[K     |████████████████████████████████| 10.4 MB 1.1 MB/s eta 0:00:01\n",
      "\u001b[?25h  Downloading dash-2.11.0-py3-none-any.whl (10.4 MB)\n",
      "\u001b[K     |████████████████████████████████| 10.4 MB 151 kB/s eta 0:00:01\n",
      "\u001b[?25h  Downloading dash-2.10.2-py3-none-any.whl (10.3 MB)\n",
      "\u001b[K     |████████████████████████████████| 10.3 MB 1.1 MB/s eta 0:00:01\n",
      "\u001b[?25h  Downloading dash-2.10.1-py3-none-any.whl (10.3 MB)\n",
      "\u001b[K     |████████████████████████████████| 10.3 MB 2.2 MB/s eta 0:00:01\n",
      "\u001b[?25h  Downloading dash-2.10.0-py3-none-any.whl (10.3 MB)\n",
      "\u001b[K     |████████████████████████████████| 10.3 MB 862 kB/s eta 0:00:01\n",
      "\u001b[?25h  Downloading dash-2.9.3-py3-none-any.whl (10.2 MB)\n",
      "\u001b[K     |████████████████████████████████| 10.2 MB 22.8 MB/s eta 0:00:01\n",
      "\u001b[?25h  Downloading dash-2.9.2-py3-none-any.whl (10.2 MB)\n",
      "\u001b[K     |████████████████████████████████| 10.2 MB 47.5 MB/s eta 0:00:01\n",
      "\u001b[?25h  Downloading dash-2.9.1-py3-none-any.whl (10.2 MB)\n",
      "\u001b[K     |████████████████████████████████| 10.2 MB 38.5 MB/s eta 0:00:01\n",
      "\u001b[?25h  Downloading dash-2.9.0-py3-none-any.whl (10.2 MB)\n",
      "\u001b[K     |████████████████████████████████| 10.2 MB 37.7 MB/s eta 0:00:01\n",
      "\u001b[?25h  Downloading dash-2.8.1-py3-none-any.whl (9.9 MB)\n",
      "\u001b[K     |████████████████████████████████| 9.9 MB 21.8 MB/s eta 0:00:01\n",
      "\u001b[?25h  Downloading dash-2.8.0-py3-none-any.whl (9.9 MB)\n",
      "\u001b[K     |████████████████████████████████| 9.9 MB 30.1 MB/s eta 0:00:01\n",
      "\u001b[?25h  Downloading dash-2.7.1-py3-none-any.whl (9.9 MB)\n",
      "\u001b[K     |████████████████████████████████| 9.9 MB 41.6 MB/s eta 0:00:01\n",
      "\u001b[?25h  Downloading dash-2.7.0-py3-none-any.whl (9.9 MB)\n",
      "\u001b[K     |████████████████████████████████| 9.9 MB 51.6 MB/s eta 0:00:01\n",
      "\u001b[?25h  Downloading dash-2.6.2-py3-none-any.whl (9.8 MB)\n",
      "\u001b[K     |████████████████████████████████| 9.8 MB 35.5 MB/s eta 0:00:01\n",
      "\u001b[?25h  Downloading dash-2.6.1-py3-none-any.whl (9.9 MB)\n",
      "\u001b[K     |████████████████████████████████| 9.9 MB 558 kB/s eta 0:00:011\n",
      "\u001b[?25h  Downloading dash-2.6.0-py3-none-any.whl (9.8 MB)\n",
      "\u001b[K     |████████████████████████████████| 9.8 MB 42.1 MB/s eta 0:00:01\n",
      "\u001b[?25h  Downloading dash-2.5.1-py3-none-any.whl (9.8 MB)\n",
      "\u001b[K     |████████████████████████████████| 9.8 MB 1.1 MB/s eta 0:00:011\n",
      "\u001b[?25h  Downloading dash-2.5.0-py3-none-any.whl (9.8 MB)\n",
      "\u001b[K     |████████████████████████████████| 9.8 MB 18.1 MB/s eta 0:00:01\n",
      "\u001b[?25h  Downloading dash-2.4.1-py3-none-any.whl (9.8 MB)\n",
      "\u001b[K     |████████████████████████████████| 9.8 MB 31.2 MB/s eta 0:00:01\n",
      "\u001b[?25h  Downloading dash-2.4.0-py3-none-any.whl (9.8 MB)\n",
      "\u001b[K     |████████████████████████████████| 9.8 MB 4.1 MB/s eta 0:00:01\n",
      "\u001b[?25h  Downloading dash-2.3.1-py3-none-any.whl (9.6 MB)\n",
      "\u001b[K     |████████████████████████████████| 9.6 MB 21.2 MB/s eta 0:00:01\n",
      "\u001b[?25h  Downloading dash-2.3.0-py3-none-any.whl (9.6 MB)\n",
      "\u001b[K     |████████████████████████████████| 9.6 MB 29.9 MB/s eta 0:00:01\n",
      "\u001b[?25h  Downloading dash-2.2.0-py3-none-any.whl (8.5 MB)\n",
      "\u001b[K     |████████████████████████████████| 8.5 MB 17.3 MB/s eta 0:00:01\n",
      "\u001b[?25h  Downloading dash-2.1.0-py3-none-any.whl (7.4 MB)\n",
      "\u001b[K     |████████████████████████████████| 7.4 MB 29.9 MB/s eta 0:00:01\n",
      "\u001b[?25h  Downloading dash-2.0.0-py3-none-any.whl (7.3 MB)\n",
      "\u001b[K     |████████████████████████████████| 7.3 MB 31.9 MB/s eta 0:00:01\n",
      "\u001b[?25h  Downloading dash-1.21.0.tar.gz (1.1 MB)\n",
      "\u001b[K     |████████████████████████████████| 1.1 MB 15.8 MB/s eta 0:00:01\n",
      "\u001b[?25hCollecting flask-compress\n",
      "  Downloading Flask_Compress-1.14-py3-none-any.whl (8.4 kB)\n",
      "Collecting dash-core-components==1.17.1\n",
      "  Downloading dash_core_components-1.17.1.tar.gz (3.7 MB)\n",
      "\u001b[K     |████████████████████████████████| 3.7 MB 30.7 MB/s eta 0:00:01\n",
      "\u001b[?25hCollecting dash-html-components==1.1.4\n",
      "  Downloading dash_html_components-1.1.4.tar.gz (83 kB)\n",
      "\u001b[K     |████████████████████████████████| 83 kB 5.7 MB/s  eta 0:00:01\n",
      "\u001b[?25hCollecting dash-table==4.12.0\n",
      "  Downloading dash_table-4.12.0.tar.gz (1.8 MB)\n",
      "\u001b[K     |████████████████████████████████| 1.8 MB 23.4 MB/s eta 0:00:01\n",
      "\u001b[?25hRequirement already satisfied: future in /Users/akhil/opt/anaconda3/lib/python3.9/site-packages (from dash->jupyter-dash==0.4.0->-r requirements.txt (line 10)) (0.18.2)\n",
      "Collecting brotli\n",
      "  Downloading Brotli-1.1.0-cp39-cp39-macosx_10_9_x86_64.whl (446 kB)\n",
      "\u001b[K     |████████████████████████████████| 446 kB 25.0 MB/s eta 0:00:01\n",
      "\u001b[?25hRequirement already satisfied: zipp>=0.5 in /Users/akhil/opt/anaconda3/lib/python3.9/site-packages (from importlib-metadata->myst-nb~=0.12.0->jupyter-book==0.11.1->-r requirements.txt (line 16)) (3.7.0)\n",
      "Collecting jupyter-server-mathjax>=0.2.2\n",
      "  Downloading jupyter_server_mathjax-0.2.6-py3-none-any.whl (3.1 MB)\n",
      "\u001b[K     |████████████████████████████████| 3.1 MB 8.8 MB/s eta 0:00:01\n",
      "\u001b[?25hCollecting gitpython!=2.1.4,!=2.1.5,!=2.1.6\n",
      "  Downloading GitPython-3.1.41-py3-none-any.whl (196 kB)\n",
      "\u001b[K     |████████████████████████████████| 196 kB 1.0 MB/s eta 0:00:01\n",
      "\u001b[?25hRequirement already satisfied: colorama in /Users/akhil/opt/anaconda3/lib/python3.9/site-packages (from nbdime->jupyter-cache~=0.4.1->myst-nb~=0.12.0->jupyter-book==0.11.1->-r requirements.txt (line 16)) (0.4.4)\n",
      "Collecting gitdb<5,>=4.0.1\n",
      "  Downloading gitdb-4.0.11-py3-none-any.whl (62 kB)\n",
      "\u001b[K     |████████████████████████████████| 62 kB 1.8 MB/s  eta 0:00:01\n",
      "\u001b[?25hCollecting smmap<6,>=3.0.1\n",
      "  Downloading smmap-5.0.1-py3-none-any.whl (24 kB)\n",
      "Requirement already satisfied: pure-eval in /Users/akhil/opt/anaconda3/lib/python3.9/site-packages (from stack-data->ipython>=5.0.0->ipykernel==5.5.3->-r requirements.txt (line 3)) (0.2.2)\n",
      "Requirement already satisfied: executing in /Users/akhil/opt/anaconda3/lib/python3.9/site-packages (from stack-data->ipython>=5.0.0->ipykernel==5.5.3->-r requirements.txt (line 3)) (0.8.3)\n",
      "Requirement already satisfied: asttokens in /Users/akhil/opt/anaconda3/lib/python3.9/site-packages (from stack-data->ipython>=5.0.0->ipykernel==5.5.3->-r requirements.txt (line 3)) (2.0.5)\n",
      "Building wheels for collected packages: black, pdoc3, dash, dash-core-components, dash-html-components, dash-table\n",
      "  Building wheel for black (PEP 517) ... \u001b[?25ldone\n",
      "\u001b[?25h  Created wheel for black: filename=black-20.8b1-py3-none-any.whl size=124171 sha256=6584cd33c9536ba002e083589456c511a0d593c067e74d66c5f03151587abce4\n",
      "  Stored in directory: /Users/akhil/Library/Caches/pip/wheels/4e/57/9a/e704bdd859ee892dc46fff03fd499422dc9e99fd9bd5c446d3\n",
      "  Building wheel for pdoc3 (setup.py) ... \u001b[?25ldone\n",
      "\u001b[?25h  Created wheel for pdoc3: filename=pdoc3-0.9.2-py3-none-any.whl size=117608 sha256=7205090a82cdeca8545ca72fe69031cd4a389fc95bc8fccb51c9ed880e692b8c\n",
      "  Stored in directory: /Users/akhil/Library/Caches/pip/wheels/0e/cf/76/780013262201c933d30b0f3f24c3e261519577cc45661fa8d6\n",
      "  Building wheel for dash (setup.py) ... \u001b[?25ldone\n",
      "\u001b[?25h  Created wheel for dash: filename=dash-1.21.0-py3-none-any.whl size=1100490 sha256=07adde569b3e6762253a2bdb844763c38ca4d747a7f593386828641959f1d0bf\n",
      "  Stored in directory: /Users/akhil/Library/Caches/pip/wheels/c8/0c/ef/ea09a27bc20c880685b98074b1e00a260f8b625cef60be257d\n",
      "  Building wheel for dash-core-components (setup.py) ... \u001b[?25ldone\n",
      "\u001b[?25h  Created wheel for dash-core-components: filename=dash_core_components-1.17.1-py3-none-any.whl size=3738986 sha256=d47a4f1e845ef38fb01fd642c513c0f44420f42150e6490a7a9ea24848b60a39\n",
      "  Stored in directory: /Users/akhil/Library/Caches/pip/wheels/33/a6/f7/595d7011a649216a16878bbf4d30b9fa5b9cc5a5613f32ec4f\n",
      "  Building wheel for dash-html-components (setup.py) ... \u001b[?25ldone\n",
      "\u001b[?25h  Created wheel for dash-html-components: filename=dash_html_components-1.1.4-py3-none-any.whl size=319772 sha256=3f8aeb14ccd440f16be0dae2f73bff71848782cde3a38035b09407d555e7ec92\n",
      "  Stored in directory: /Users/akhil/Library/Caches/pip/wheels/b0/d5/52/2c61d12ea7fea0f1a069abda166e2784c5803cbff89295f089\n",
      "  Building wheel for dash-table (setup.py) ... \u001b[?25ldone\n",
      "\u001b[?25h  Created wheel for dash-table: filename=dash_table-4.12.0-py3-none-any.whl size=1837668 sha256=417d5796368680703e31f7fddf8e6b443b8def4e453cfeae1b25c96e5307c247\n",
      "  Stored in directory: /Users/akhil/Library/Caches/pip/wheels/b7/96/da/113c2ef15910c2cbf5e8ba75ebadd75e75e3c0c8d2cbd30854\n",
      "Successfully built black pdoc3 dash dash-core-components dash-html-components dash-table\n",
      "Installing collected packages: attrs, jupyter-client, jinja2, smmap, nbconvert, ipykernel, notebook, gitdb, mdit-py-plugins, markdown-it-py, latexcodec, jupyter-server-mathjax, gitpython, docutils, dill, async-generator, sphinx, retrying, pybtex, ppft, pox, nbdime, nbclient, multiprocess, ipywidgets, flask, brotli, uc-micro-py, sphinx-togglebutton, pydata-sphinx-theme, pybtex-docutils, plotly, pathos, myst-parser, jupyter-sphinx, jupyter-cache, funcy, flask-compress, dash-table, dash-html-components, dash-core-components, typing-extensions, sphinxcontrib-bibtex, sphinx-thebe, sphinx-panels, sphinx-external-toc, sphinx-copybutton, sphinx-comments, sphinx-book-theme, pluggy, myst-nb, mako, linkify-it-py, jupytext, jupyterlab, jupyterbook-latex, dash, cadCAD, astroid, ansi2html, tqdm, stochastic, radcad, python-dotenv, pytest, pylint, pdoc3, matplotlib, kaleido, jupyterlab-spellchecker, jupyter-dash, jupyter-book, ipython-autotime, gunicorn, diskcache, cadCAD-tools, black\n",
      "  Attempting uninstall: attrs\n",
      "    Found existing installation: attrs 21.4.0\n",
      "    Uninstalling attrs-21.4.0:\n",
      "      Successfully uninstalled attrs-21.4.0\n",
      "  Attempting uninstall: jupyter-client\n",
      "    Found existing installation: jupyter-client 6.1.12\n",
      "    Uninstalling jupyter-client-6.1.12:\n",
      "      Successfully uninstalled jupyter-client-6.1.12\n",
      "  Attempting uninstall: jinja2\n",
      "    Found existing installation: Jinja2 2.11.3\n",
      "    Uninstalling Jinja2-2.11.3:\n",
      "      Successfully uninstalled Jinja2-2.11.3\n",
      "  Attempting uninstall: nbconvert\n",
      "    Found existing installation: nbconvert 6.4.4\n",
      "    Uninstalling nbconvert-6.4.4:\n",
      "      Successfully uninstalled nbconvert-6.4.4\n",
      "  Attempting uninstall: ipykernel\n",
      "    Found existing installation: ipykernel 6.9.1\n",
      "    Uninstalling ipykernel-6.9.1:\n",
      "      Successfully uninstalled ipykernel-6.9.1\n",
      "  Attempting uninstall: notebook\n",
      "    Found existing installation: notebook 6.4.8\n",
      "    Uninstalling notebook-6.4.8:\n",
      "      Successfully uninstalled notebook-6.4.8\n",
      "  Attempting uninstall: docutils\n",
      "    Found existing installation: docutils 0.17.1\n",
      "    Uninstalling docutils-0.17.1:\n",
      "      Successfully uninstalled docutils-0.17.1\n",
      "  Attempting uninstall: sphinx\n",
      "    Found existing installation: Sphinx 4.4.0\n",
      "    Uninstalling Sphinx-4.4.0:\n",
      "      Successfully uninstalled Sphinx-4.4.0\n",
      "  Attempting uninstall: nbclient\n",
      "    Found existing installation: nbclient 0.5.13\n",
      "    Uninstalling nbclient-0.5.13:\n",
      "      Successfully uninstalled nbclient-0.5.13\n",
      "  Attempting uninstall: ipywidgets\n",
      "    Found existing installation: ipywidgets 7.6.5\n",
      "    Uninstalling ipywidgets-7.6.5:\n",
      "      Successfully uninstalled ipywidgets-7.6.5\n",
      "  Attempting uninstall: flask\n",
      "    Found existing installation: Flask 1.1.2\n",
      "    Uninstalling Flask-1.1.2:\n",
      "      Successfully uninstalled Flask-1.1.2\n",
      "  Attempting uninstall: plotly\n",
      "    Found existing installation: plotly 5.6.0\n",
      "    Uninstalling plotly-5.6.0:\n",
      "      Successfully uninstalled plotly-5.6.0\n",
      "  Attempting uninstall: typing-extensions\n",
      "    Found existing installation: typing-extensions 4.1.1\n",
      "    Uninstalling typing-extensions-4.1.1:\n",
      "      Successfully uninstalled typing-extensions-4.1.1\n",
      "  Attempting uninstall: pluggy\n",
      "    Found existing installation: pluggy 1.0.0\n",
      "    Uninstalling pluggy-1.0.0:\n",
      "      Successfully uninstalled pluggy-1.0.0\n",
      "  Attempting uninstall: jupyterlab\n",
      "    Found existing installation: jupyterlab 3.3.2\n",
      "    Uninstalling jupyterlab-3.3.2:\n",
      "      Successfully uninstalled jupyterlab-3.3.2\n",
      "  Attempting uninstall: astroid\n",
      "    Found existing installation: astroid 2.6.6\n",
      "    Uninstalling astroid-2.6.6:\n",
      "      Successfully uninstalled astroid-2.6.6\n",
      "  Attempting uninstall: tqdm\n",
      "    Found existing installation: tqdm 4.64.0\n",
      "    Uninstalling tqdm-4.64.0:\n",
      "      Successfully uninstalled tqdm-4.64.0\n",
      "  Attempting uninstall: pytest\n",
      "    Found existing installation: pytest 7.1.1\n",
      "    Uninstalling pytest-7.1.1:\n",
      "      Successfully uninstalled pytest-7.1.1\n",
      "  Attempting uninstall: pylint\n",
      "    Found existing installation: pylint 2.9.6\n",
      "    Uninstalling pylint-2.9.6:\n",
      "      Successfully uninstalled pylint-2.9.6\n",
      "  Attempting uninstall: matplotlib\n",
      "    Found existing installation: matplotlib 3.5.1\n",
      "    Uninstalling matplotlib-3.5.1:\n",
      "      Successfully uninstalled matplotlib-3.5.1\n",
      "  Attempting uninstall: black\n",
      "    Found existing installation: black 19.10b0\n",
      "    Uninstalling black-19.10b0:\n",
      "      Successfully uninstalled black-19.10b0\n",
      "\u001b[31mERROR: pip's dependency resolver does not currently take into account all the packages that are installed. This behaviour is the source of the following dependency conflicts.\n",
      "spyder 5.1.5 requires pyqt5<5.13, which is not installed.\n",
      "spyder 5.1.5 requires pyqtwebengine<5.13, which is not installed.\n",
      "anaconda-project 0.10.2 requires ruamel-yaml, which is not installed.\n",
      "bokeh 2.4.2 requires typing-extensions>=3.10.0, but you have typing-extensions 3.7.4.3 which is incompatible.\u001b[0m\n",
      "Successfully installed ansi2html-1.9.1 astroid-2.5.6 async-generator-1.10 attrs-20.3.0 black-20.8b1 brotli-1.1.0 cadCAD-0.5.1 cadCAD-tools-0.0.1.4 dash-1.21.0 dash-core-components-1.17.1 dash-html-components-1.1.4 dash-table-4.12.0 dill-0.3.8 diskcache-5.2.1 docutils-0.16 flask-2.0.0 flask-compress-1.14 funcy-2.0 gitdb-4.0.11 gitpython-3.1.41 gunicorn-20.1.0 ipykernel-5.5.3 ipython-autotime-0.3.1 ipywidgets-7.6.3 jinja2-3.1.3 jupyter-book-0.11.1 jupyter-cache-0.4.3 jupyter-client-6.1.2 jupyter-dash-0.4.0 jupyter-server-mathjax-0.2.6 jupyter-sphinx-0.3.2 jupyterbook-latex-0.3.1 jupyterlab-3.0.17 jupyterlab-spellchecker-0.6.0 jupytext-1.10.3 kaleido-0.2.1 latexcodec-2.0.1 linkify-it-py-1.0.3 mako-1.3.2 markdown-it-py-0.6.2 matplotlib-3.3.4 mdit-py-plugins-0.2.6 multiprocess-0.70.16 myst-nb-0.12.3 myst-parser-0.13.7 nbclient-0.4.0 nbconvert-5.6.1 nbdime-4.0.1 notebook-6.4.12 pathos-0.2.9 pdoc3-0.9.2 plotly-4.14.3 pluggy-0.13.1 pox-0.3.4 ppft-1.7.6.8 pybtex-0.24.0 pybtex-docutils-1.0.3 pydata-sphinx-theme-0.7.2 pylint-2.8.3 pytest-6.2.2 python-dotenv-0.19.0 radcad-0.8.4 retrying-1.3.4 smmap-5.0.1 sphinx-3.5.4 sphinx-book-theme-0.1.10 sphinx-comments-0.0.3 sphinx-copybutton-0.5.2 sphinx-external-toc-0.2.4 sphinx-panels-0.5.2 sphinx-thebe-0.0.10 sphinx-togglebutton-0.2.3 sphinxcontrib-bibtex-2.2.1 stochastic-0.6.0 tqdm-4.61.0 typing-extensions-3.7.4.3 uc-micro-py-1.0.2\n",
      "Note: you may need to restart the kernel to use updated packages.\n"
     ]
    }
   ],
   "source": [
    "%pip install -r requirements.txt"
   ]
  },
  {
   "cell_type": "markdown",
   "metadata": {},
   "source": [
    "## Check package version\n",
    "\n",
    "Both of the below operations should show the same package version."
   ]
  },
  {
   "cell_type": "code",
   "execution_count": 3,
   "metadata": {},
   "outputs": [
    {
     "name": "stdout",
     "output_type": "stream",
     "text": [
      "Name: radcad\n",
      "Version: 0.8.4\n",
      "Summary: A Python package for dynamical systems modelling & simulation, inspired by and compatible with cadCAD\n",
      "Home-page: \n",
      "Author: CADLabs\n",
      "Author-email: benschza@users.noreply.github.com\n",
      "License: \n",
      "Location: /Users/akhil/opt/anaconda3/lib/python3.9/site-packages\n",
      "Requires: pathos, pandas\n",
      "Required-by: \n",
      "Note: you may need to restart the kernel to use updated packages.\n"
     ]
    }
   ],
   "source": [
    "%pip show radcad"
   ]
  },
  {
   "cell_type": "code",
   "execution_count": 4,
   "metadata": {},
   "outputs": [],
   "source": [
    "import radcad"
   ]
  },
  {
   "cell_type": "code",
   "execution_count": 5,
   "metadata": {},
   "outputs": [
    {
     "data": {
      "text/plain": [
       "'0.8.4'"
      ]
     },
     "execution_count": 5,
     "metadata": {},
     "output_type": "execute_result"
    }
   ],
   "source": [
    "radcad.__version__"
   ]
  },
  {
   "cell_type": "markdown",
   "metadata": {},
   "source": [
    "## Check Plotly output\n",
    "\n",
    "Should render a line chart."
   ]
  },
  {
   "cell_type": "code",
   "execution_count": 6,
   "metadata": {},
   "outputs": [
    {
     "data": {
      "application/vnd.plotly.v1+json": {
       "config": {
        "plotlyServerURL": "https://plot.ly"
       },
       "data": [
        {
         "hovertemplate": "x=%{x}<br>y=%{y}<extra></extra>",
         "legendgroup": "",
         "line": {
          "color": "#636efa",
          "dash": "solid"
         },
         "mode": "lines",
         "name": "",
         "orientation": "v",
         "showlegend": false,
         "type": "scatter",
         "x": [
          0,
          1,
          2
         ],
         "xaxis": "x",
         "y": [
          0,
          1,
          2
         ],
         "yaxis": "y"
        }
       ],
       "layout": {
        "legend": {
         "tracegroupgap": 0
        },
        "margin": {
         "t": 60
        },
        "template": {
         "data": {
          "bar": [
           {
            "error_x": {
             "color": "#2a3f5f"
            },
            "error_y": {
             "color": "#2a3f5f"
            },
            "marker": {
             "line": {
              "color": "#E5ECF6",
              "width": 0.5
             }
            },
            "type": "bar"
           }
          ],
          "barpolar": [
           {
            "marker": {
             "line": {
              "color": "#E5ECF6",
              "width": 0.5
             }
            },
            "type": "barpolar"
           }
          ],
          "carpet": [
           {
            "aaxis": {
             "endlinecolor": "#2a3f5f",
             "gridcolor": "white",
             "linecolor": "white",
             "minorgridcolor": "white",
             "startlinecolor": "#2a3f5f"
            },
            "baxis": {
             "endlinecolor": "#2a3f5f",
             "gridcolor": "white",
             "linecolor": "white",
             "minorgridcolor": "white",
             "startlinecolor": "#2a3f5f"
            },
            "type": "carpet"
           }
          ],
          "choropleth": [
           {
            "colorbar": {
             "outlinewidth": 0,
             "ticks": ""
            },
            "type": "choropleth"
           }
          ],
          "contour": [
           {
            "colorbar": {
             "outlinewidth": 0,
             "ticks": ""
            },
            "colorscale": [
             [
              0,
              "#0d0887"
             ],
             [
              0.1111111111111111,
              "#46039f"
             ],
             [
              0.2222222222222222,
              "#7201a8"
             ],
             [
              0.3333333333333333,
              "#9c179e"
             ],
             [
              0.4444444444444444,
              "#bd3786"
             ],
             [
              0.5555555555555556,
              "#d8576b"
             ],
             [
              0.6666666666666666,
              "#ed7953"
             ],
             [
              0.7777777777777778,
              "#fb9f3a"
             ],
             [
              0.8888888888888888,
              "#fdca26"
             ],
             [
              1,
              "#f0f921"
             ]
            ],
            "type": "contour"
           }
          ],
          "contourcarpet": [
           {
            "colorbar": {
             "outlinewidth": 0,
             "ticks": ""
            },
            "type": "contourcarpet"
           }
          ],
          "heatmap": [
           {
            "colorbar": {
             "outlinewidth": 0,
             "ticks": ""
            },
            "colorscale": [
             [
              0,
              "#0d0887"
             ],
             [
              0.1111111111111111,
              "#46039f"
             ],
             [
              0.2222222222222222,
              "#7201a8"
             ],
             [
              0.3333333333333333,
              "#9c179e"
             ],
             [
              0.4444444444444444,
              "#bd3786"
             ],
             [
              0.5555555555555556,
              "#d8576b"
             ],
             [
              0.6666666666666666,
              "#ed7953"
             ],
             [
              0.7777777777777778,
              "#fb9f3a"
             ],
             [
              0.8888888888888888,
              "#fdca26"
             ],
             [
              1,
              "#f0f921"
             ]
            ],
            "type": "heatmap"
           }
          ],
          "heatmapgl": [
           {
            "colorbar": {
             "outlinewidth": 0,
             "ticks": ""
            },
            "colorscale": [
             [
              0,
              "#0d0887"
             ],
             [
              0.1111111111111111,
              "#46039f"
             ],
             [
              0.2222222222222222,
              "#7201a8"
             ],
             [
              0.3333333333333333,
              "#9c179e"
             ],
             [
              0.4444444444444444,
              "#bd3786"
             ],
             [
              0.5555555555555556,
              "#d8576b"
             ],
             [
              0.6666666666666666,
              "#ed7953"
             ],
             [
              0.7777777777777778,
              "#fb9f3a"
             ],
             [
              0.8888888888888888,
              "#fdca26"
             ],
             [
              1,
              "#f0f921"
             ]
            ],
            "type": "heatmapgl"
           }
          ],
          "histogram": [
           {
            "marker": {
             "colorbar": {
              "outlinewidth": 0,
              "ticks": ""
             }
            },
            "type": "histogram"
           }
          ],
          "histogram2d": [
           {
            "colorbar": {
             "outlinewidth": 0,
             "ticks": ""
            },
            "colorscale": [
             [
              0,
              "#0d0887"
             ],
             [
              0.1111111111111111,
              "#46039f"
             ],
             [
              0.2222222222222222,
              "#7201a8"
             ],
             [
              0.3333333333333333,
              "#9c179e"
             ],
             [
              0.4444444444444444,
              "#bd3786"
             ],
             [
              0.5555555555555556,
              "#d8576b"
             ],
             [
              0.6666666666666666,
              "#ed7953"
             ],
             [
              0.7777777777777778,
              "#fb9f3a"
             ],
             [
              0.8888888888888888,
              "#fdca26"
             ],
             [
              1,
              "#f0f921"
             ]
            ],
            "type": "histogram2d"
           }
          ],
          "histogram2dcontour": [
           {
            "colorbar": {
             "outlinewidth": 0,
             "ticks": ""
            },
            "colorscale": [
             [
              0,
              "#0d0887"
             ],
             [
              0.1111111111111111,
              "#46039f"
             ],
             [
              0.2222222222222222,
              "#7201a8"
             ],
             [
              0.3333333333333333,
              "#9c179e"
             ],
             [
              0.4444444444444444,
              "#bd3786"
             ],
             [
              0.5555555555555556,
              "#d8576b"
             ],
             [
              0.6666666666666666,
              "#ed7953"
             ],
             [
              0.7777777777777778,
              "#fb9f3a"
             ],
             [
              0.8888888888888888,
              "#fdca26"
             ],
             [
              1,
              "#f0f921"
             ]
            ],
            "type": "histogram2dcontour"
           }
          ],
          "mesh3d": [
           {
            "colorbar": {
             "outlinewidth": 0,
             "ticks": ""
            },
            "type": "mesh3d"
           }
          ],
          "parcoords": [
           {
            "line": {
             "colorbar": {
              "outlinewidth": 0,
              "ticks": ""
             }
            },
            "type": "parcoords"
           }
          ],
          "pie": [
           {
            "automargin": true,
            "type": "pie"
           }
          ],
          "scatter": [
           {
            "marker": {
             "colorbar": {
              "outlinewidth": 0,
              "ticks": ""
             }
            },
            "type": "scatter"
           }
          ],
          "scatter3d": [
           {
            "line": {
             "colorbar": {
              "outlinewidth": 0,
              "ticks": ""
             }
            },
            "marker": {
             "colorbar": {
              "outlinewidth": 0,
              "ticks": ""
             }
            },
            "type": "scatter3d"
           }
          ],
          "scattercarpet": [
           {
            "marker": {
             "colorbar": {
              "outlinewidth": 0,
              "ticks": ""
             }
            },
            "type": "scattercarpet"
           }
          ],
          "scattergeo": [
           {
            "marker": {
             "colorbar": {
              "outlinewidth": 0,
              "ticks": ""
             }
            },
            "type": "scattergeo"
           }
          ],
          "scattergl": [
           {
            "marker": {
             "colorbar": {
              "outlinewidth": 0,
              "ticks": ""
             }
            },
            "type": "scattergl"
           }
          ],
          "scattermapbox": [
           {
            "marker": {
             "colorbar": {
              "outlinewidth": 0,
              "ticks": ""
             }
            },
            "type": "scattermapbox"
           }
          ],
          "scatterpolar": [
           {
            "marker": {
             "colorbar": {
              "outlinewidth": 0,
              "ticks": ""
             }
            },
            "type": "scatterpolar"
           }
          ],
          "scatterpolargl": [
           {
            "marker": {
             "colorbar": {
              "outlinewidth": 0,
              "ticks": ""
             }
            },
            "type": "scatterpolargl"
           }
          ],
          "scatterternary": [
           {
            "marker": {
             "colorbar": {
              "outlinewidth": 0,
              "ticks": ""
             }
            },
            "type": "scatterternary"
           }
          ],
          "surface": [
           {
            "colorbar": {
             "outlinewidth": 0,
             "ticks": ""
            },
            "colorscale": [
             [
              0,
              "#0d0887"
             ],
             [
              0.1111111111111111,
              "#46039f"
             ],
             [
              0.2222222222222222,
              "#7201a8"
             ],
             [
              0.3333333333333333,
              "#9c179e"
             ],
             [
              0.4444444444444444,
              "#bd3786"
             ],
             [
              0.5555555555555556,
              "#d8576b"
             ],
             [
              0.6666666666666666,
              "#ed7953"
             ],
             [
              0.7777777777777778,
              "#fb9f3a"
             ],
             [
              0.8888888888888888,
              "#fdca26"
             ],
             [
              1,
              "#f0f921"
             ]
            ],
            "type": "surface"
           }
          ],
          "table": [
           {
            "cells": {
             "fill": {
              "color": "#EBF0F8"
             },
             "line": {
              "color": "white"
             }
            },
            "header": {
             "fill": {
              "color": "#C8D4E3"
             },
             "line": {
              "color": "white"
             }
            },
            "type": "table"
           }
          ]
         },
         "layout": {
          "annotationdefaults": {
           "arrowcolor": "#2a3f5f",
           "arrowhead": 0,
           "arrowwidth": 1
          },
          "autotypenumbers": "strict",
          "coloraxis": {
           "colorbar": {
            "outlinewidth": 0,
            "ticks": ""
           }
          },
          "colorscale": {
           "diverging": [
            [
             0,
             "#8e0152"
            ],
            [
             0.1,
             "#c51b7d"
            ],
            [
             0.2,
             "#de77ae"
            ],
            [
             0.3,
             "#f1b6da"
            ],
            [
             0.4,
             "#fde0ef"
            ],
            [
             0.5,
             "#f7f7f7"
            ],
            [
             0.6,
             "#e6f5d0"
            ],
            [
             0.7,
             "#b8e186"
            ],
            [
             0.8,
             "#7fbc41"
            ],
            [
             0.9,
             "#4d9221"
            ],
            [
             1,
             "#276419"
            ]
           ],
           "sequential": [
            [
             0,
             "#0d0887"
            ],
            [
             0.1111111111111111,
             "#46039f"
            ],
            [
             0.2222222222222222,
             "#7201a8"
            ],
            [
             0.3333333333333333,
             "#9c179e"
            ],
            [
             0.4444444444444444,
             "#bd3786"
            ],
            [
             0.5555555555555556,
             "#d8576b"
            ],
            [
             0.6666666666666666,
             "#ed7953"
            ],
            [
             0.7777777777777778,
             "#fb9f3a"
            ],
            [
             0.8888888888888888,
             "#fdca26"
            ],
            [
             1,
             "#f0f921"
            ]
           ],
           "sequentialminus": [
            [
             0,
             "#0d0887"
            ],
            [
             0.1111111111111111,
             "#46039f"
            ],
            [
             0.2222222222222222,
             "#7201a8"
            ],
            [
             0.3333333333333333,
             "#9c179e"
            ],
            [
             0.4444444444444444,
             "#bd3786"
            ],
            [
             0.5555555555555556,
             "#d8576b"
            ],
            [
             0.6666666666666666,
             "#ed7953"
            ],
            [
             0.7777777777777778,
             "#fb9f3a"
            ],
            [
             0.8888888888888888,
             "#fdca26"
            ],
            [
             1,
             "#f0f921"
            ]
           ]
          },
          "colorway": [
           "#636efa",
           "#EF553B",
           "#00cc96",
           "#ab63fa",
           "#FFA15A",
           "#19d3f3",
           "#FF6692",
           "#B6E880",
           "#FF97FF",
           "#FECB52"
          ],
          "font": {
           "color": "#2a3f5f"
          },
          "geo": {
           "bgcolor": "white",
           "lakecolor": "white",
           "landcolor": "#E5ECF6",
           "showlakes": true,
           "showland": true,
           "subunitcolor": "white"
          },
          "hoverlabel": {
           "align": "left"
          },
          "hovermode": "closest",
          "mapbox": {
           "style": "light"
          },
          "paper_bgcolor": "white",
          "plot_bgcolor": "#E5ECF6",
          "polar": {
           "angularaxis": {
            "gridcolor": "white",
            "linecolor": "white",
            "ticks": ""
           },
           "bgcolor": "#E5ECF6",
           "radialaxis": {
            "gridcolor": "white",
            "linecolor": "white",
            "ticks": ""
           }
          },
          "scene": {
           "xaxis": {
            "backgroundcolor": "#E5ECF6",
            "gridcolor": "white",
            "gridwidth": 2,
            "linecolor": "white",
            "showbackground": true,
            "ticks": "",
            "zerolinecolor": "white"
           },
           "yaxis": {
            "backgroundcolor": "#E5ECF6",
            "gridcolor": "white",
            "gridwidth": 2,
            "linecolor": "white",
            "showbackground": true,
            "ticks": "",
            "zerolinecolor": "white"
           },
           "zaxis": {
            "backgroundcolor": "#E5ECF6",
            "gridcolor": "white",
            "gridwidth": 2,
            "linecolor": "white",
            "showbackground": true,
            "ticks": "",
            "zerolinecolor": "white"
           }
          },
          "shapedefaults": {
           "line": {
            "color": "#2a3f5f"
           }
          },
          "ternary": {
           "aaxis": {
            "gridcolor": "white",
            "linecolor": "white",
            "ticks": ""
           },
           "baxis": {
            "gridcolor": "white",
            "linecolor": "white",
            "ticks": ""
           },
           "bgcolor": "#E5ECF6",
           "caxis": {
            "gridcolor": "white",
            "linecolor": "white",
            "ticks": ""
           }
          },
          "title": {
           "x": 0.05
          },
          "xaxis": {
           "automargin": true,
           "gridcolor": "white",
           "linecolor": "white",
           "ticks": "",
           "title": {
            "standoff": 15
           },
           "zerolinecolor": "white",
           "zerolinewidth": 2
          },
          "yaxis": {
           "automargin": true,
           "gridcolor": "white",
           "linecolor": "white",
           "ticks": "",
           "title": {
            "standoff": 15
           },
           "zerolinecolor": "white",
           "zerolinewidth": 2
          }
         }
        },
        "xaxis": {
         "anchor": "y",
         "domain": [
          0,
          1
         ],
         "title": {
          "text": "x"
         }
        },
        "yaxis": {
         "anchor": "x",
         "domain": [
          0,
          1
         ],
         "title": {
          "text": "y"
         }
        }
       }
      }
     },
     "metadata": {},
     "output_type": "display_data"
    }
   ],
   "source": [
    "import plotly.express as px\n",
    "\n",
    "px.line(x=[0, 1, 2], y=[0, 1, 2])"
   ]
  }
 ],
 "metadata": {
  "kernelspec": {
   "display_name": "Python 3",
   "language": "python",
   "name": "python3"
  },
  "language_info": {
   "codemirror_mode": {
    "name": "ipython",
    "version": 3
   },
   "file_extension": ".py",
   "mimetype": "text/x-python",
   "name": "python",
   "nbconvert_exporter": "python",
   "pygments_lexer": "ipython3",
   "version": "3.9.12"
  }
 },
 "nbformat": 4,
 "nbformat_minor": 5
}
